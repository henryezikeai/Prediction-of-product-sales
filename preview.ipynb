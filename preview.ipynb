{
  "nbformat": 4,
  "nbformat_minor": 0,
  "metadata": {
    "colab": {
      "provenance": [],
      "mount_file_id": "1NVuR5VSRZtnzW51sPGsHmipAInDfiwzL",
      "authorship_tag": "ABX9TyPTr325+ji/4o+tI8OkbR9N",
      "include_colab_link": true
    },
    "kernelspec": {
      "name": "python3",
      "display_name": "Python 3"
    },
    "language_info": {
      "name": "python"
    }
  },
  "cells": [
    {
      "cell_type": "markdown",
      "metadata": {
        "id": "view-in-github",
        "colab_type": "text"
      },
      "source": [
        "<a href=\"https://colab.research.google.com/github/henryezikeai/Prediction-of-product-sales/blob/main/Project_1_Part_4.ipynb\" target=\"_parent\"><img src=\"https://colab.research.google.com/assets/colab-badge.svg\" alt=\"Open In Colab\"/></a>"
      ]
    },
    {
      "cell_type": "code",
      "execution_count": 42,
      "metadata": {
        "id": "R_3gIOvnGLVa"
      },
      "outputs": [],
      "source": [
        "import pandas as pd, seaborn as sns, numpy as np, matplotlib.pyplot as plt"
      ]
    },
    {
      "cell_type": "code",
      "source": [
        "filepath = '/content/drive/MyDrive/CodingDojo/01-Fundamentals/Week02/Data/sales_predictions_2023.csv'"
      ],
      "metadata": {
        "id": "GbQgtfQKGeE2"
      },
      "execution_count": 43,
      "outputs": []
    },
    {
      "cell_type": "code",
      "source": [
        "df = pd.read_csv(filepath)"
      ],
      "metadata": {
        "id": "mAzuQ1amGf41"
      },
      "execution_count": 44,
      "outputs": []
    },
    {
      "cell_type": "code",
      "source": [
        "df.isna().sum()"
      ],
      "metadata": {
        "colab": {
          "base_uri": "https://localhost:8080/"
        },
        "id": "5uW6ijWXGiYy",
        "outputId": "e4ac82fb-337c-4a23-bb2d-8552f0611e2f"
      },
      "execution_count": 45,
      "outputs": [
        {
          "output_type": "execute_result",
          "data": {
            "text/plain": [
              "Item_Identifier                 0\n",
              "Item_Weight                  1463\n",
              "Item_Fat_Content                0\n",
              "Item_Visibility                 0\n",
              "Item_Type                       0\n",
              "Item_MRP                        0\n",
              "Outlet_Identifier               0\n",
              "Outlet_Establishment_Year       0\n",
              "Outlet_Size                  2410\n",
              "Outlet_Location_Type            0\n",
              "Outlet_Type                     0\n",
              "Item_Outlet_Sales               0\n",
              "dtype: int64"
            ]
          },
          "metadata": {},
          "execution_count": 45
        }
      ]
    },
    {
      "cell_type": "code",
      "source": [
        "def explore_categorical(df, x, fillna = True, placeholder = 'MISSING', figsize = (6,4), order = None):\n",
        "  temp_df = df.copy()\n",
        "  null_count = temp_df[x].isna().sum()\n",
        "  null_percent = null_count/len(temp_df) * 100\n",
        "  if fillna == True:\n",
        "    temp_df[x] = temp_df[x].fillna(placeholder)\n",
        "  fig, ax = plt.subplots(figsize=figsize)\n",
        "  sns.countplot(data=temp_df, x=x, ax=ax, order=order)\n",
        "  ax.set_xticklabels(ax.get_xticklabels(), rotation=90, ha='right')\n",
        "  ax.set(title=f'Column:{x}')\n",
        "  plt.show()\n",
        "  print(f'The null value count is {null_count}')\n",
        "  print(f'The null value percentage is {null_percent}%')\n",
        "  val_counts = df[x].value_counts(dropna=False)\n",
        "  most_common_val = val_counts.index[0]\n",
        "  frequency = int(val_counts.values[0])\n",
        "  percent_most_common = round(frequency / len(df) * 100)\n",
        "  if percent_most_common > 98:\n",
        "    print(f'Percentage is {percent_most_common}% and column should be dropped.')\n",
        "  else:\n",
        "    print(f'Percentage is {percent_most_common}% and should not be dropped.')\n",
        "  nunique = temp_df[x].nunique()\n",
        "  print(f'Unique Values: {nunique}')\n"
      ],
      "metadata": {
        "id": "1AuatjXkJCFj"
      },
      "execution_count": 60,
      "outputs": []
    },
    {
      "cell_type": "code",
      "source": [
        "explore_categorical(df, 'Item_Fat_Content')\n"
      ],
      "metadata": {
        "colab": {
          "base_uri": "https://localhost:8080/",
          "height": 518
        },
        "id": "YX3YZlccVF4W",
        "outputId": "b5239517-447a-4584-f080-bd6a5b4d8747"
      },
      "execution_count": 61,
      "outputs": [
        {
          "output_type": "display_data",
          "data": {
            "text/plain": [
              "<Figure size 600x400 with 1 Axes>"
            ],
            "image/png": "[encoded data removed]"
          },
          "metadata": {}
        },
        {
          "output_type": "stream",
          "name": "stdout",
          "text": [
            "The null value count is 0\n",
            "The null value percentage is 0.0%\n",
            "Percentage is 60% and should not be dropped.\n",
            "Unique Values: 5\n"
          ]
        }
      ]
    }
  ]
}
