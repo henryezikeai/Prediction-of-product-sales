{
  "nbformat": 4,
  "nbformat_minor": 0,
  "metadata": {
    "colab": {
      "provenance": [],
      "authorship_tag": "ABX9TyPpkjl78vRRP0JZmtW85j6g",
      "include_colab_link": true
    },
    "kernelspec": {
      "name": "python3",
      "display_name": "Python 3"
    },
    "language_info": {
      "name": "python"
    }
  },
  "cells": [
    {
      "cell_type": "markdown",
      "metadata": {
        "id": "view-in-github",
        "colab_type": "text"
      },
      "source": [
        "<a href=\"https://colab.research.google.com/github/henryezikeai/Prediction-of-product-sales/blob/main/Prediction_of_Product_Sales.ipynb\" target=\"_parent\"><img src=\"https://colab.research.google.com/assets/colab-badge.svg\" alt=\"Open In Colab\"/></a>"
      ]
    },
    {
      "cell_type": "code",
      "execution_count": null,
      "metadata": {
        "id": "EFCmtQIFYn0D"
      },
      "outputs": [],
      "source": []
    },
    {
      "cell_type": "markdown",
      "source": [
        "#Prediction of Product Sales\n",
        "- Author: Henry Ezike"
      ],
      "metadata": {
        "id": "mbq67JGbYrYB"
      }
    },
    {
      "cell_type": "markdown",
      "source": [
        "##Project Overview"
      ],
      "metadata": {
        "id": "Ex4jRyKvZF0R"
      }
    },
    {
      "cell_type": "code",
      "source": [],
      "metadata": {
        "id": "yWoG30lbZ5IJ"
      },
      "execution_count": null,
      "outputs": []
    },
    {
      "cell_type": "markdown",
      "source": [
        "##Load and Inspect Data"
      ],
      "metadata": {
        "id": "Rw-fv_gEZPEl"
      }
    },
    {
      "cell_type": "code",
      "source": [],
      "metadata": {
        "id": "djTmML5XZS4F"
      },
      "execution_count": null,
      "outputs": []
    },
    {
      "cell_type": "markdown",
      "source": [
        "##Clean Data"
      ],
      "metadata": {
        "id": "IommIRR_Ziee"
      }
    },
    {
      "cell_type": "code",
      "source": [],
      "metadata": {
        "id": "KWP9d9_bZkrQ"
      },
      "execution_count": null,
      "outputs": []
    },
    {
      "cell_type": "markdown",
      "source": [
        "##Exploratory Data Analysis"
      ],
      "metadata": {
        "id": "HNBYZZH4ZnGA"
      }
    },
    {
      "cell_type": "code",
      "source": [],
      "metadata": {
        "id": "3T6CTYaLZrDc"
      },
      "execution_count": null,
      "outputs": []
    },
    {
      "cell_type": "markdown",
      "source": [
        "##Feature Inspection"
      ],
      "metadata": {
        "id": "X7T92-KUZsJ2"
      }
    },
    {
      "cell_type": "code",
      "source": [],
      "metadata": {
        "id": "RGJyrRBFZuoq"
      },
      "execution_count": null,
      "outputs": []
    },
    {
      "cell_type": "markdown",
      "source": [],
      "metadata": {
        "id": "N0u0sKiSZwgs"
      }
    }
  ]
}